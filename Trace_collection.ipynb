{
 "cells": [
  {
   "cell_type": "code",
   "execution_count": null,
   "metadata": {},
   "outputs": [],
   "source": [
    "#import package\n",
    "import hashlib\n",
    "from datetime import date, datetime\n",
    "import random\n",
    "import matplotlib.pylab as plt\n",
    "import numpy as np\n",
    "from tqdm import notebook\n",
    "from tqdm.notebook import trange\n",
    "import binascii\n",
    "import struct\n",
    "import csv\n",
    "from numpy import linalg as LA\n",
    "from numpy.linalg import matrix_rank\n",
    "import random\n",
    "from math import sqrt"
   ]
  },
  {
   "cell_type": "code",
   "execution_count": null,
   "metadata": {},
   "outputs": [],
   "source": [
    "# Target Board Setup \n",
    "if False:\n",
    "    SCOPETYPE = 'CWNANO'\n",
    "    PLATFORM = 'CWNANO'\n",
    "    SS_VER='SS_VER_1_1'\n",
    "if False:  \n",
    "    SCOPETYPE = 'CW308_STM32F3'\n",
    "    PLATFORM = 'CW308_STM32F3'\n",
    "    SS_VER='SS_VER_1_1'\n",
    "if True:\n",
    "    SCOPETYPE = 'OPENADC'\n",
    "    PLATFORM = 'CWLITEXMEGA'\n",
    "    SS_VER='SS_VER_1_1'"
   ]
  },
  {
   "cell_type": "code",
   "execution_count": null,
   "metadata": {},
   "outputs": [],
   "source": [
    "%run /home/vagrant/work/projects/chipwhisperer/jupyter/Setup_Scripts/Setup_Generic.ipynb"
   ]
  },
  {
   "cell_type": "code",
   "execution_count": null,
   "metadata": {},
   "outputs": [],
   "source": [
    "#Compile Program to Run on Board\n",
    "PATH = \"/home/vagrant/work/projects/chipwhisperer/hardware/victims/firmware/\"\n",
    "TARGET_MODEL = \"C_NeuralNetwork\" "
   ]
  },
  {
   "cell_type": "code",
   "execution_count": null,
   "metadata": {},
   "outputs": [],
   "source": [
    "%%bash -s \"$PLATFORM\" \"$PATH\" \"$TARGET_MODEL\" \"$SS_VER\"\n",
    "cd $2$3 #change directory to our target model\n",
    "make PLATFORM=$1 CRYPTO_TARGET=NONE SS_VER=$4"
   ]
  },
  {
   "cell_type": "code",
   "execution_count": null,
   "metadata": {},
   "outputs": [],
   "source": [
    "#Programming the Board\n",
    "if TARGET_MODEL == \"C_NeuralNetwork\":\n",
    "    TAG = \"NN\"\n",
    "    print('> Programming CW Lite with NeuralNetwork target:')\n",
    "    print(f'>    {PATH+TARGET_MODEL}/NeuralNetwork-{PLATFORM}.hex')\n",
    "    cw.program_target(scope, prog, f'{PATH+TARGET_MODEL}/NeuralNetwork-{PLATFORM}.hex')\n",
    "else:\n",
    "    print('BROKEN!!! UNIDENTIFIED TARGET MODEL')"
   ]
  },
  {
   "cell_type": "code",
   "execution_count": null,
   "metadata": {},
   "outputs": [],
   "source": [
    "#Pass Model Data Over Serial\n",
    "NUM_SAMPLES = 713 \n",
    "f = open(f\"{PATH+TARGET_MODEL}/pima-indians-diabetes.csv\", \"r\")\n",
    "lines = f.readlines()\n",
    "print(f\">> Sending {NUM_SAMPLES} samples over serial\")\n",
    "count = 0\n",
    "for i in notebook.tnrange(NUM_SAMPLES, desc='Data Transfer'): \n",
    "    line = lines[i]\n",
    "    # Build byte array\n",
    "    line_list = [int(l) for l in line.replace('\\n','').split(',')]\n",
    "    ba = bytearray(line_list) \n",
    "    target.simpleserial_write('d',ba)\n",
    "    print(f\"  Original: {ba}\")\n",
    "    response = target.simpleserial_read('r',6,ack=False) # Verify response\n",
    "    print(response)\n",
    "expected_count = NUM_SAMPLES"
   ]
  },
  {
   "cell_type": "code",
   "execution_count": null,
   "metadata": {},
   "outputs": [],
   "source": [
    "# Initialize Weight Matrices\n",
    "ba = bytearray([1])\n",
    "target.simpleserial_write('i', ba)\n",
    "ret = scope.capture()\n",
    "if ret: print(\"Target timed out!\")\n",
    "response = target.simpleserial_read('r', 2)\n",
    "count = int.from_bytes(response, byteorder='little', signed=False)\n",
    "expected_count = expected_count + 1\n",
    "if(count != expected_count):\n",
    "    print(f\"Read coun does not match!!\")\n",
    "    print(f\"  Expected: {NUM_SAMPLES+1}\")\n",
    "    print(f\"    Actual: {count}\")\n",
    "else:\n",
    "    print(\">> Weights Initialized successfully:)\")"
   ]
  },
  {
   "cell_type": "code",
   "execution_count": null,
   "metadata": {},
   "outputs": [],
   "source": [
    "#Train Model and Collect Power Traces\n",
    "scope.adc.samples = 5000 \n",
    "num_epochs = 1200  \n",
    "train_traces = []\n",
    "plt.figure()\n",
    "for i in notebook.tnrange(num_epochs, desc='Training Trace Capture'):     \n",
    "    scope.arm() \n",
    "    b = bytearray([2]) \n",
    "    target.simpleserial_write('e', b)\n",
    "    time.sleep(2)\n",
    "    # Check for timeout\n",
    "    ret = scope.capture()\n",
    "    if ret: print(\"Target timed out!\")\n",
    "        \n",
    "    response = target.simpleserial_read('r', 2, ack=False)\n",
    "    count = int.from_bytes(response, byteorder='little', signed=False)\n",
    "    expected_count = expected_count +1\n",
    "    if(count != expected_count):\n",
    "        print(f\"Read count does not match!!\")\n",
    "        print(f\"  Expected: {expected_count}\")\n",
    "        print(f\"    Actual: {count}\")\n",
    "    train_traces.append(scope.get_last_trace())\n",
    "    plt.plot(train_traces[i])\n",
    "print(f\">> Captured {len(train_traces[0])} traces for each of {len(train_traces)} training samples\")\n",
    "plt.show()"
   ]
  },
  {
   "cell_type": "code",
   "execution_count": null,
   "metadata": {},
   "outputs": [],
   "source": [
    "#save power traces into csv\n",
    "dt = datetime.strptime(str(datetime.now()).split('.')[0], '%Y-%m-%d %H:%M:%S')\n",
    "timestamp = dt.timestamp() # assume dt is a local time\n",
    "datehex = str(binascii.hexlify(struct.pack('<I', round(timestamp))))[1:].replace(\"'\",\"\")\n",
    "filename_train = f'{TAG}_train_{datehex}.csv'\n",
    "# Save Training Traces\n",
    "f_train = open(filename_train, 'w')\n",
    "csvwriter = csv.writer(f_train)\n",
    "csvwriter.writerows(train_traces)\n",
    "print(f\">> Traces written to {filename_train}\")"
   ]
  }
 ],
 "metadata": {
  "kernelspec": {
   "display_name": "Python 3",
   "language": "python",
   "name": "python3"
  },
  "language_info": {
   "codemirror_mode": {
    "name": "ipython",
    "version": 3
   },
   "file_extension": ".py",
   "mimetype": "text/x-python",
   "name": "python",
   "nbconvert_exporter": "python",
   "pygments_lexer": "ipython3",
   "version": "3.6.7"
  },
  "toc": {
   "base_numbering": 1,
   "nav_menu": {},
   "number_sections": true,
   "sideBar": true,
   "skip_h1_title": false,
   "title_cell": "Table of Contents",
   "title_sidebar": "Contents",
   "toc_cell": false,
   "toc_position": {},
   "toc_section_display": true,
   "toc_window_display": false
  }
 },
 "nbformat": 4,
 "nbformat_minor": 4
}
